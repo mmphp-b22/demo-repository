{
  "nbformat": 4,
  "nbformat_minor": 0,
  "metadata": {
    "colab": {
      "provenance": [],
      "toc_visible": true
    },
    "kernelspec": {
      "name": "python3",
      "display_name": "Python 3"
    },
    "language_info": {
      "name": "python"
    }
  },
  "cells": [
    {
      "cell_type": "markdown",
      "source": [
        "# Занятие 2. Зависимость удельной $E_{св}$ от массового числа  \n",
        "1. Гит: ветки, пулл-реквесты.  \n",
        "2. Импорт собственных функций в ноутбук.  \n",
        "3. Метод \\_\\_dict\\_\\_  \n",
        "4. DataFrame библиотеки pandas  \n",
        "5. Методы apply, drop\n",
        "6. График энергии связи на нуклон"
      ],
      "metadata": {
        "id": "ak6NkPu78sFq"
      }
    },
    {
      "cell_type": "markdown",
      "source": [
        "## Подготовка"
      ],
      "metadata": {
        "id": "dsU5Bgzh83IF"
      }
    },
    {
      "cell_type": "code",
      "source": [
        "#!pip install mendeleev"
      ],
      "metadata": {
        "id": "btzmWBJJ_DXo"
      },
      "execution_count": null,
      "outputs": []
    },
    {
      "cell_type": "code",
      "source": [
        "from matplotlib import pyplot as plt\n",
        "import numpy as np\n",
        "import pandas as pd\n",
        "from mendeleev import element, get_all_elements, isotope, Isotope, Element"
      ],
      "metadata": {
        "id": "jK5QzpL08-b_"
      },
      "execution_count": 2,
      "outputs": []
    },
    {
      "cell_type": "code",
      "execution_count": null,
      "metadata": {
        "id": "QXDy-_QE8Tgc"
      },
      "outputs": [],
      "source": [
        "Isotope.__dict__"
      ]
    },
    {
      "cell_type": "code",
      "source": [
        "isotopes = []\n",
        "elems = get_all_elements()\n",
        "for elem in elems:\n",
        "  isotopes.extend(elem.isotopes)"
      ],
      "metadata": {
        "id": "NDqcEZiQ_VL4"
      },
      "execution_count": null,
      "outputs": []
    },
    {
      "cell_type": "code",
      "source": [
        "pd.DataFrame(data=isotopes, columns=['Iso'])"
      ],
      "metadata": {
        "id": "uKZ_3mSd_YlA"
      },
      "execution_count": null,
      "outputs": []
    },
    {
      "cell_type": "code",
      "source": [],
      "metadata": {
        "id": "WtnBwQvVGZqj"
      },
      "execution_count": null,
      "outputs": []
    },
    {
      "cell_type": "code",
      "source": [],
      "metadata": {
        "id": "sl2teL1CGafk"
      },
      "execution_count": null,
      "outputs": []
    },
    {
      "cell_type": "code",
      "source": [],
      "metadata": {
        "id": "n4LkEiGgGa3d"
      },
      "execution_count": null,
      "outputs": []
    },
    {
      "cell_type": "markdown",
      "source": [
        "## Удельная энергия связи"
      ],
      "metadata": {
        "id": "Ge_7RYd48_-L"
      }
    },
    {
      "cell_type": "markdown",
      "source": [
        "Требуется построить график удельной энергии связи ядра, приходящейся на один нуклон, в зависимости от числа нуклонов в ядре.  Единицы энергии, используемые на графике - МэВ"
      ],
      "metadata": {
        "id": "3arfyI-R_nch"
      }
    },
    {
      "cell_type": "markdown",
      "source": [
        "$E_{уд\\ св} = \\dfrac{E_{св}}{A}$, где  \n",
        "$A$ - количество нуклонов (протоны + нейроны), a.k.a. массовое число\n",
        "\n",
        "$E_{св} = \\Delta m * c^2$, где  \n",
        "- $\\Delta m$ - деффект массы,  \n",
        "- $c$ - скорость света.  \n",
        "\n",
        "$\\Delta m = \\sum_{i} N_i * m_i - m$, где  \n",
        " - $N_i$ - количество,\n",
        " - $m_i$ - масса, $i \\in {n,p}$."
      ],
      "metadata": {
        "id": "RQmrIEfR9Onz"
      }
    },
    {
      "cell_type": "code",
      "source": [
        "def from_aem_to_kg(aems):\n",
        "  'Перевод массы из а.е.м. в кг'\n",
        "  return aems * 1.6605 * 10**(-27)\n",
        "\n",
        "neutron_mass = 1.6749  * 10**(-27) # кг\n",
        "proton_mass =  1.6726  * 10**(-27) # кг\n",
        "c = 3 * 10**8 # м/c\n",
        "\n",
        "def J_to_MeV(en):\n",
        "  'Перевод энергии из джоулей в МэВ'\n",
        "  return en / (1.602176634 *10**(-19)) / 10**6"
      ],
      "metadata": {
        "id": "1skFM3j-AWU-"
      },
      "execution_count": 31,
      "outputs": []
    },
    {
      "cell_type": "code",
      "source": [],
      "metadata": {
        "id": "3IF-EC89HI2V"
      },
      "execution_count": null,
      "outputs": []
    },
    {
      "cell_type": "code",
      "source": [],
      "metadata": {
        "id": "tTRK_etYHIml"
      },
      "execution_count": null,
      "outputs": []
    },
    {
      "cell_type": "code",
      "source": [],
      "metadata": {
        "id": "RPJXoa_JHIac"
      },
      "execution_count": null,
      "outputs": []
    },
    {
      "cell_type": "markdown",
      "source": [
        "### Построение графика\n",
        "Тип графика - диаграмма рассеяния.  График должен иметь\n",
        "- грамотно подписанные оси,\n",
        "- достаточно маленькую цену деления,\n",
        "- визуально оптимальный размер отметки,\n",
        "- разметку (сетку)."
      ],
      "metadata": {
        "id": "kdUL34XsBNIk"
      }
    },
    {
      "cell_type": "markdown",
      "source": [
        "#### Теор. справка. df $\\rightarrow$ ndarray\n",
        "Извлечение массива значений из колонки датафрейма"
      ],
      "metadata": {
        "id": "iYWsGlYlDKGv"
      }
    },
    {
      "cell_type": "code",
      "source": [
        "my_df = pd.DataFrame(np.array([1,2,3]), columns=['my_col'])\n",
        "my_col_values = my_df['my_col'].values\n",
        "print(f'Извлечены данные: {my_col_values}, тип - {type(my_col_values)}')"
      ],
      "metadata": {
        "colab": {
          "base_uri": "https://localhost:8080/"
        },
        "id": "YkCjiS0AAzob",
        "outputId": "b97ab582-c2ec-442e-c13d-176dde082be9"
      },
      "execution_count": 22,
      "outputs": [
        {
          "output_type": "stream",
          "name": "stdout",
          "text": [
            "Извлечены данные: [[1]\n",
            " [2]\n",
            " [3]], тип - <class 'numpy.ndarray'>\n"
          ]
        }
      ]
    },
    {
      "cell_type": "code",
      "source": [
        "my_col_values = my_col_values.reshape(-1)\n",
        "my_col_values.shape"
      ],
      "metadata": {
        "colab": {
          "base_uri": "https://localhost:8080/"
        },
        "id": "vaMtyqmKDFf4",
        "outputId": "986befe0-5ec7-4b55-f69f-868f952c6624"
      },
      "execution_count": 23,
      "outputs": [
        {
          "output_type": "execute_result",
          "data": {
            "text/plain": [
              "(3,)"
            ]
          },
          "metadata": {},
          "execution_count": 23
        }
      ]
    },
    {
      "cell_type": "markdown",
      "source": [
        "#### <Вставьте заголовок>\n",
        "\n"
      ],
      "metadata": {
        "id": "MUJ4waz-DM_v"
      }
    },
    {
      "cell_type": "code",
      "source": [],
      "metadata": {
        "id": "gHwMqbRiDInv"
      },
      "execution_count": null,
      "outputs": []
    },
    {
      "cell_type": "markdown",
      "source": [
        "#### Теор. справка. Слайсы\n",
        "Если при соблюдении всех указанных выше правил отметки все равно сливаются (именно так у вас и должно получиться), необходимо привести на графике точки с некоторым фиксированным шагом по массиву значений. Воспользуйтесь numpy-слайсами, см. пример ниже.\n"
      ],
      "metadata": {
        "id": "zUYODw6BFNtS"
      }
    },
    {
      "cell_type": "code",
      "source": [
        "big_arr = np.arange(100)\n",
        "print('Исходный', big_arr, sep='\\t')\n",
        "sparse_arr = big_arr[::10]\n",
        "print('Разреженный', sparse_arr, sep='\\t')"
      ],
      "metadata": {
        "colab": {
          "base_uri": "https://localhost:8080/"
        },
        "id": "wajiYblBE2E1",
        "outputId": "e979c360-eac6-450f-c0c1-de8fb0b75860"
      },
      "execution_count": 30,
      "outputs": [
        {
          "output_type": "stream",
          "name": "stdout",
          "text": [
            "Исходный\t[ 0  1  2  3  4  5  6  7  8  9 10 11 12 13 14 15 16 17 18 19 20 21 22 23\n",
            " 24 25 26 27 28 29 30 31 32 33 34 35 36 37 38 39 40 41 42 43 44 45 46 47\n",
            " 48 49 50 51 52 53 54 55 56 57 58 59 60 61 62 63 64 65 66 67 68 69 70 71\n",
            " 72 73 74 75 76 77 78 79 80 81 82 83 84 85 86 87 88 89 90 91 92 93 94 95\n",
            " 96 97 98 99]\n",
            "Разреженный\t[ 0 10 20 30 40 50 60 70 80 90]\n"
          ]
        }
      ]
    },
    {
      "cell_type": "markdown",
      "source": [
        "#### <Вставьте заголовок>\n",
        "\n"
      ],
      "metadata": {
        "id": "ovIxSpkEHYcL"
      }
    },
    {
      "cell_type": "code",
      "source": [],
      "metadata": {
        "id": "uMY3EVf5FJG7"
      },
      "execution_count": null,
      "outputs": []
    },
    {
      "cell_type": "markdown",
      "source": [
        "## Выводы  \n",
        "<Ваши выводы по характеру получившегося графика>"
      ],
      "metadata": {
        "id": "oihdxlndGDn8"
      }
    }
  ]
}
