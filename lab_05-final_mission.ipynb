{
 "cells": [
  {
   "cell_type": "markdown",
   "metadata": {},
   "source": [
    "## Лабораторная работа № 5 \"Расчет коэффициента размножения нейтронов в гомогенном реакторе с использованием формулы четырех сомножителей\""
   ]
  },
  {
   "cell_type": "markdown",
   "metadata": {},
   "source": [
    "Работу выполнил: <ФИО, группа>"
   ]
  },
  {
   "cell_type": "code",
   "execution_count": 51,
   "metadata": {},
   "outputs": [],
   "source": [
    "import pandas as pd\n",
    "import numpy as np\n",
    "from typing import Dict\n",
    "from itertools import product\n",
    "from matplotlib.lines import Line2D\n",
    "from matplotlib import pyplot as plt"
   ]
  },
  {
   "cell_type": "markdown",
   "metadata": {},
   "source": [
    "## Данные\n",
    "В качестве исходных данных в работе используются\n",
    "- обогащение урана $x$ - отношение доли U-235 к доле U-238 в урановом топливе, $x = \\dfrac{N_{235}}{N_{238}}$  \n",
    "- $\\sigma_f, \\sigma _c, \\sigma _s$ - микросечения деления (f), поглощения (c), рассеяния (s), $10^{-24} см^2 = 1\\ б$  \n",
    "- $\\rho$ - плотность вещества, $[г/см^3]$  \n",
    "- $M$ - молярная масса, $[г/моль]$\n",
    "- $\\xi$ - средний логарифмический декремент энергии\n",
    "- $\\epsilon$ - объемная доля компоненты гомогенного реактора  \n"
   ]
  },
  {
   "cell_type": "markdown",
   "metadata": {},
   "source": [
    "Обогащение: $x \\in [0.00714, 0.01, 0.02, 0.03, 0.04, 0.05]$"
   ]
  },
  {
   "cell_type": "markdown",
   "metadata": {},
   "source": [
    "Типы компонент:  \n",
    "- топливо [T] ($U, UO_2$)  \n",
    "- теплоноситель [ТН] ($H_2O, D_2O$)  \n",
    "- замедлитель [З] ($H_2O, D_2O, C$)  \n",
    "- конструкционные материалы [К] ($Zr, Fe$)  \n",
    "В качестве значений молярной массы  используйте молярные массы **наиболее распространенных в природе** изотопов.  \n",
    "Необходимо выяснить распространенность и извлечь значения из библиотеки `mendeleev`, явным образом отразить поиск и выбор в тексте работы."
   ]
  },
  {
   "cell_type": "markdown",
   "metadata": {},
   "source": [
    "Ниже приведена заготовка для таблицы параметров. Все параметры, необходимые для расчетов и непосредственно характеризующие свойства вещества, должны быть внесены в эту таблицу по ходу работы.  \n",
    "Содержимое колонки `type` для удобства можно преобразовать."
   ]
  },
  {
   "cell_type": "code",
   "execution_count": 69,
   "metadata": {},
   "outputs": [
    {
     "data": {
      "text/html": [
       "<div>\n",
       "<style scoped>\n",
       "    .dataframe tbody tr th:only-of-type {\n",
       "        vertical-align: middle;\n",
       "    }\n",
       "\n",
       "    .dataframe tbody tr th {\n",
       "        vertical-align: top;\n",
       "    }\n",
       "\n",
       "    .dataframe thead th {\n",
       "        text-align: right;\n",
       "    }\n",
       "</style>\n",
       "<table border=\"1\" class=\"dataframe\">\n",
       "  <thead>\n",
       "    <tr style=\"text-align: right;\">\n",
       "      <th></th>\n",
       "      <th>rho</th>\n",
       "      <th>s_c</th>\n",
       "      <th>s_s</th>\n",
       "      <th>decr</th>\n",
       "      <th>type</th>\n",
       "    </tr>\n",
       "  </thead>\n",
       "  <tbody>\n",
       "    <tr>\n",
       "      <th>H2O</th>\n",
       "      <td>1.00</td>\n",
       "      <td>0.660</td>\n",
       "      <td>63.0</td>\n",
       "      <td>0.948</td>\n",
       "      <td>З/ТН</td>\n",
       "    </tr>\n",
       "    <tr>\n",
       "      <th>D2O</th>\n",
       "      <td>1.10</td>\n",
       "      <td>0.001</td>\n",
       "      <td>13.6</td>\n",
       "      <td>0.570</td>\n",
       "      <td>З/ТН</td>\n",
       "    </tr>\n",
       "    <tr>\n",
       "      <th>C</th>\n",
       "      <td>1.60</td>\n",
       "      <td>NaN</td>\n",
       "      <td>NaN</td>\n",
       "      <td>0.158</td>\n",
       "      <td>З</td>\n",
       "    </tr>\n",
       "    <tr>\n",
       "      <th>Zr</th>\n",
       "      <td>6.51</td>\n",
       "      <td>NaN</td>\n",
       "      <td>NaN</td>\n",
       "      <td>0.022</td>\n",
       "      <td>К</td>\n",
       "    </tr>\n",
       "    <tr>\n",
       "      <th>Fe</th>\n",
       "      <td>7.87</td>\n",
       "      <td>NaN</td>\n",
       "      <td>NaN</td>\n",
       "      <td>0.035</td>\n",
       "      <td>К</td>\n",
       "    </tr>\n",
       "  </tbody>\n",
       "</table>\n",
       "</div>"
      ],
      "text/plain": [
       "      rho    s_c   s_s   decr  type\n",
       "H2O  1.00  0.660  63.0  0.948  З/ТН\n",
       "D2O  1.10  0.001  13.6  0.570  З/ТН\n",
       "C    1.60    NaN   NaN  0.158     З\n",
       "Zr   6.51    NaN   NaN  0.022     К\n",
       "Fe   7.87    NaN   NaN  0.035     К"
      ]
     },
     "execution_count": 69,
     "metadata": {},
     "output_type": "execute_result"
    }
   ],
   "source": [
    "params = pd.DataFrame(data={'rho':  [1.00, 1.10, 1.60, 6.51, 7.87], # плотность вещества, г/см^3\n",
    "                            's_c':  [0.66, 0.001, np.nan, np.nan, np.nan], # микросечение захвата, б (необходимо дополнить)\n",
    "                            's_s':  [63, 13.6, np.nan, np.nan, np.nan], # микросечение рассеяни, б  (необходимо дополнить)\n",
    "                            'decr': [0.948, 0.57, 0.158, 0.022, 0.035], # лог. декремент энергии, б/р\n",
    "                            'type': ['З/ТН', 'З/ТН', 'З', 'К', 'К']}, # тип компоненты реактора\n",
    "                             index= ['H2O','D2O', 'C', 'Zr', 'Fe'])  # название вещества\n",
    "params"
   ]
  },
  {
   "cell_type": "code",
   "execution_count": 71,
   "metadata": {},
   "outputs": [
    {
     "data": {
      "text/plain": [
       "(rho     1.6\n",
       " type      З\n",
       " Name: C, dtype: object,\n",
       " pandas.core.series.Series)"
      ]
     },
     "execution_count": 71,
     "metadata": {},
     "output_type": "execute_result"
    }
   ],
   "source": [
    "# пример использования на будущее\n",
    "C_pars = params.loc['C', ['rho', 'type']]\n",
    "C_pars, type(C_pars)"
   ]
  },
  {
   "cell_type": "markdown",
   "metadata": {},
   "source": [
    "Формат данных для топлива отличается от формата данных для других компонент, поэтому будем записывать отдельно"
   ]
  },
  {
   "cell_type": "code",
   "execution_count": 65,
   "metadata": {},
   "outputs": [],
   "source": [
    "fuel_rho = {'U': 18.9, 'UO2': 10.96}\n",
    "fuel_params = pd.DataFrame(data={}, index = ['U_235', 'U_238'])"
   ]
  },
  {
   "cell_type": "code",
   "execution_count": 66,
   "metadata": {},
   "outputs": [
    {
     "data": {
      "text/html": [
       "<div>\n",
       "<style scoped>\n",
       "    .dataframe tbody tr th:only-of-type {\n",
       "        vertical-align: middle;\n",
       "    }\n",
       "\n",
       "    .dataframe tbody tr th {\n",
       "        vertical-align: top;\n",
       "    }\n",
       "\n",
       "    .dataframe thead th {\n",
       "        text-align: right;\n",
       "    }\n",
       "</style>\n",
       "<table border=\"1\" class=\"dataframe\">\n",
       "  <thead>\n",
       "    <tr style=\"text-align: right;\">\n",
       "      <th></th>\n",
       "    </tr>\n",
       "  </thead>\n",
       "  <tbody>\n",
       "    <tr>\n",
       "      <th>U_235</th>\n",
       "    </tr>\n",
       "    <tr>\n",
       "      <th>U_238</th>\n",
       "    </tr>\n",
       "  </tbody>\n",
       "</table>\n",
       "</div>"
      ],
      "text/plain": [
       "Empty DataFrame\n",
       "Columns: []\n",
       "Index: [U_235, U_238]"
      ]
     },
     "execution_count": 66,
     "metadata": {},
     "output_type": "execute_result"
    }
   ],
   "source": [
    "fuel_params"
   ]
  },
  {
   "cell_type": "markdown",
   "metadata": {},
   "source": [
    "Дополните таблицы `params` и `fuel_params` значениями микросечений деления, рассеяния и захвата по данным [РОССФОНД-2010](https://www-nds.iaea.org/exfor/endf.htm) при тепловых энергиях (0.025 эВ). Сечение деления указывать только для U-235, для U-238 - 0.\n",
    "\n",
    "Напоминание по поиску: в зависимости от типа реакции, в поле Reaction необходимо ввести:  \n",
    "- *N,F* (деление),  \n",
    "- *N,EL* (рассеяние), \n",
    "- *N,G* (захват).\n"
   ]
  },
  {
   "cell_type": "code",
   "execution_count": 72,
   "metadata": {},
   "outputs": [],
   "source": [
    "# дополните таблицы params и fuel_params микросечениями\n"
   ]
  },
  {
   "cell_type": "markdown",
   "metadata": {},
   "source": [
    "В качестве долей компонент реактора в работе используются доли материалов в реальных ячейках реакторов типа\n",
    "1. РБМК: Т - 0.0316, ТН - 0.038, К - 0.903, З - 0.0272.\n",
    "2. ВВЭР: Т - 0.002, ТН - 0.9974, К - 0.002, З - 0.0. \n",
    "\n",
    "Обратите внимание, в случае ВВЭР теплоносителем и замедлителем является одно и то же вещество. Тогда в качестве свойств (например, $\\sigma, \\xi$) замеделителя надо брать свойства теплоносителя. В расчетах, в которых используется (не)взвешанное суммирование объемных концентраций $N$ теплоносителя и замедлителя, использовать соответствующее значение **единожды**. "
   ]
  },
  {
   "cell_type": "code",
   "execution_count": 16,
   "metadata": {},
   "outputs": [],
   "source": [
    "# отразите в программном виде доли компонент"
   ]
  },
  {
   "cell_type": "markdown",
   "metadata": {},
   "source": [
    "## Формулы расчета  \n",
    "Формула четырех сомножителей: $k_{\\infty} = \\dfrac{n'}{n} =\\dfrac{n\\ \\mu \\phi \\theta \\eta}{n} = \\mu \\phi \\theta \\eta$, где  \n",
    "$\\mu$ - коэффициент размножения на быстрых нейтронах;  \n",
    "$\\phi$ - вероятность избежать резонансного захвата;  \n",
    "$\\theta$ - коэффициент использования тепловых нейтронов (доля тепловых нейтронов, захваченных в топливе);  \n",
    "$\\eta$ - число эффективных нейтронов деления (быстрых нейтронов) на один тепловой нейтрон, захваченный в топливе."
   ]
  },
  {
   "cell_type": "markdown",
   "metadata": {},
   "source": [
    "Распишите в ячейке markdown с использованием latex-нотации ниже в общем виде формулы расчета каждого из сомножителей (см. lab_05-theory02):  \n",
    "1. приведите формулу расчета объемной концентрации $N$ c использованием плотности вещества $\\rho$, молярной массы $M$.  \n",
    "2. распишите формулы для сомножителей, используя только обогащение урана $x$, микросечения $\\sigma$, эффективный интеграл $I_{эф}$, объемные концентрации $N$, средний логарифмический декремент энергии $\\xi$, объемные доли компонент $\\epsilon$ и индексы, соответствующие типам компонент (Т, ТН, К, З)\n",
    "\n",
    "Внимание! В работе принять $I_{эф} = 280б$. Расписывать формулу вычисления $I_{эф}$ не нужно."
   ]
  },
  {
   "cell_type": "markdown",
   "metadata": {},
   "source": []
  },
  {
   "cell_type": "markdown",
   "metadata": {},
   "source": [
    "Реализуйте расчет коэффициента размножения нейтронов на основе полученных формул в форме класса.  \n",
    "Заготовка  представлена ниже."
   ]
  },
  {
   "cell_type": "code",
   "execution_count": 3,
   "metadata": {},
   "outputs": [],
   "source": [
    "class HomoReactor:\n",
    "    'Ядерный реактор на тепловых нейтронах с бесконечной гомогенной активной зоной' \n",
    "    s_f_235 =  0 # микросечение деления U-235\n",
    "    s_c_235 =  0 # микросечение захвата U-235\n",
    "    s_s_235 =  0 # микросечение рассеяния U-235\n",
    "    s_c_238 =  0 # микросечение захвата U-238\n",
    "    s_s_238 =  0 # микросечение рассеяния U-238\n",
    "    nu_f =     2.42 # число нейтронов деления\n",
    "    mu =       0 # коэффициент размножения на быстрых нейтронах в гомогенной среде\n",
    "\n",
    "    def __init__(self, components: Dict[str, str], t_props: pd.Series, other_props: pd.DataFrame):\n",
    "        '''\n",
    "        Аргументы:  \n",
    "        - components (Dict[str, str])): ключ - тип компоненты (Т, ТН, К, З), значение - выбранное вещество  \n",
    "        - t_props (pd.Series):          часть params, содержащая свойства (eps, N, x) выбранного топлива    \n",
    "        - other_props (pd.DataFrame):   свойства ТН, К, З для выбранной тройки веществ и никаких других\n",
    "        '''\n",
    "        self.x = t_props['x'] # обогащение урана \n",
    "        self.t_eps = t_props['eps'] # относительный объем топлива в среде\n",
    "        self.t_N = t_props['N'] # ядерная плотность топлива \n",
    "\n",
    "        self.tn_props = other_props.loc[components['ТН']]\n",
    "        self.k_props = other_props.loc[components['К']]\n",
    "        self.z_props = other_props.loc[components['З']]\n",
    "\n",
    "    def set_x(self, x):\n",
    "        'Установить обогащение топлива'\n",
    "        pass\n",
    "\n",
    "    def phi_calc(self):\n",
    "        'Расчет вероятности избежать резонансного захвата'\n",
    "        pass\n",
    "\n",
    "    def theta_calc(self):\n",
    "        'Расчет коэфф-та использования тепловых нейтронов'\n",
    "        pass\n",
    "\n",
    "    def eta_calc(self):\n",
    "        'Расчет эффективного числа нейтронов деления'\n",
    "        pass\n",
    "\n",
    "    def k_calc(self):\n",
    "        'Расчет коэффициента размножения'\n",
    "        pass"
   ]
  },
  {
   "cell_type": "markdown",
   "metadata": {},
   "source": [
    "## Подготовка к расчетам"
   ]
  },
  {
   "cell_type": "markdown",
   "metadata": {},
   "source": [
    "### 1. Обогащение урана"
   ]
  },
  {
   "cell_type": "markdown",
   "metadata": {},
   "source": [
    "С использованием библиотеки `mendeleev` получите доли U-235 и U-238 в природном уране и рассчитайте его обогащение. Внестите значение в переменную `x_natural` ниже."
   ]
  },
  {
   "cell_type": "code",
   "execution_count": 18,
   "metadata": {},
   "outputs": [],
   "source": [
    "# поиск необходимых данных и рассчет x_natural\n",
    "\n",
    "\n",
    "x_natural = -1 "
   ]
  },
  {
   "cell_type": "code",
   "execution_count": 19,
   "metadata": {},
   "outputs": [
    {
     "data": {
      "text/plain": [
       "[-1, 0.01, 0.02, 0.03, 0.04, 0.05]"
      ]
     },
     "execution_count": 19,
     "metadata": {},
     "output_type": "execute_result"
    }
   ],
   "source": [
    "x_vals = [x_natural, *[i*0.01 for i in range(1, 6)]] # обогащение урана, используемое в работе\n",
    "x_vals"
   ]
  },
  {
   "cell_type": "markdown",
   "metadata": {},
   "source": [
    "### 2. Комбинации веществ в реакторе\n",
    "\n",
    "Составьте все возможные комбинации веществ так, чтобы в составе реактора присутствовали все компоненты (по одному представителю Т, ТН, К, З)"
   ]
  },
  {
   "cell_type": "code",
   "execution_count": 61,
   "metadata": {},
   "outputs": [
    {
     "name": "stdout",
     "output_type": "stream",
     "text": [
      "Подсказка 1: Index(['Zr', 'Fe'], dtype='object')\n",
      "Подсказка 2: [('x1', 'y1'), ('x1', 'y2'), ('x2', 'y1'), ('x2', 'y2')]\n"
     ]
    }
   ],
   "source": [
    "# подсказка 1\n",
    "print('Подсказка 1:', params.loc[params['type'] == 'К'].index)\n",
    "# подсказка 2\n",
    "print('Подсказка 2:', list(product(['x1','x2'], ['y1','y2'])))"
   ]
  },
  {
   "cell_type": "markdown",
   "metadata": {},
   "source": [
    "Выведите число комбинаций и сами комбинации"
   ]
  },
  {
   "cell_type": "code",
   "execution_count": 47,
   "metadata": {},
   "outputs": [],
   "source": []
  },
  {
   "cell_type": "markdown",
   "metadata": {},
   "source": [
    "## Исследование"
   ]
  },
  {
   "cell_type": "markdown",
   "metadata": {},
   "source": [
    "### 1. Расчет коэффициента размножения\n",
    "Для всех значений обогащения урана $x$ рассчитайте коэффициент размножения нейтронов при каждой из комбинаций веществ в составе реактора с долями, соответствующими реакторам РБМК и ВВЭР.  "
   ]
  },
  {
   "cell_type": "code",
   "execution_count": null,
   "metadata": {},
   "outputs": [],
   "source": []
  },
  {
   "cell_type": "markdown",
   "metadata": {},
   "source": [
    "Отобразите полученные значения на графике. \n",
    "\n",
    "0. Приведите график в \"читаемый\" вид (подписи осей, грамотно выбранный масштаб, сетка (если уместна), легенда). \n",
    "1. На графике разделите подкритическую и надкритическую области (например, с использованием matplotlib.lines.Line2D).\n",
    "2. Если цветов для различения полученных значений не хватает, используйте сочетание цвет + стиль маркера.\n",
    "\n",
    "Приведите графики для долей РБМК и ВВЭР.\n"
   ]
  },
  {
   "cell_type": "code",
   "execution_count": null,
   "metadata": {},
   "outputs": [],
   "source": [
    "# рбмк"
   ]
  },
  {
   "cell_type": "code",
   "execution_count": null,
   "metadata": {},
   "outputs": [],
   "source": [
    "# ввэр"
   ]
  },
  {
   "cell_type": "markdown",
   "metadata": {},
   "source": [
    "Вывод:"
   ]
  },
  {
   "cell_type": "markdown",
   "metadata": {},
   "source": [
    "### 2. Зависимость сомножителей k от объемной доли компонент\n",
    "Исследуйте поведение отдельных сомножителей коэффициента размножения при изменении долей материалов.  \n",
    "1. Используйте двумерные графики, например, `plt.contourf` (см. синтаксис и примеры в [доках](https://matplotlib.org/stable/api/_as_gen/matplotlib.pyplot.contourf.html)), для перераспределения долей между двумя компонентами.  \n",
    "2. Используйте одномерные графики, при изменении доли одного компонента на $\\pm\\Delta$ и пропорционального распределения $\\mp\\Delta$ между другими компонентами."
   ]
  },
  {
   "cell_type": "code",
   "execution_count": null,
   "metadata": {},
   "outputs": [],
   "source": []
  },
  {
   "cell_type": "markdown",
   "metadata": {},
   "source": [
    "Вывод:"
   ]
  },
  {
   "cell_type": "markdown",
   "metadata": {},
   "source": [
    "### 3. Для среды, состоящей только из урана и замедлителя, провести исследования п.1 и п.2.\n",
    "Долю топлива принять равной доле топлива в РБМК/ВВЭР в зависимости от четности/нечетности первой буквы фамилии по порядку в алфавите соответственно."
   ]
  },
  {
   "cell_type": "code",
   "execution_count": 56,
   "metadata": {},
   "outputs": [
    {
     "name": "stdout",
     "output_type": "stream",
     "text": [
      "ВВЭР\n"
     ]
    }
   ],
   "source": [
    "name = 'К'\n",
    "print('ВВЭР' if (ord(name) - ord('А') + 1) % 2 else 'РБМК')"
   ]
  },
  {
   "cell_type": "code",
   "execution_count": null,
   "metadata": {},
   "outputs": [],
   "source": []
  },
  {
   "cell_type": "markdown",
   "metadata": {},
   "source": [
    "Вывод:"
   ]
  },
  {
   "cell_type": "markdown",
   "metadata": {},
   "source": [
    "## Итоги\n",
    "Привести в порядок ноутбук. Не должно быть пустых ячеек, черновых записей, ячеек, выводящих ошибки, некорректные графики и т.п. \n",
    "По окончании работы также удалить данную ячейку."
   ]
  }
 ],
 "metadata": {
  "kernelspec": {
   "display_name": "Python 3",
   "language": "python",
   "name": "python3"
  },
  "language_info": {
   "codemirror_mode": {
    "name": "ipython",
    "version": 3
   },
   "file_extension": ".py",
   "mimetype": "text/x-python",
   "name": "python",
   "nbconvert_exporter": "python",
   "pygments_lexer": "ipython3",
   "version": "3.11.2"
  }
 },
 "nbformat": 4,
 "nbformat_minor": 2
}
