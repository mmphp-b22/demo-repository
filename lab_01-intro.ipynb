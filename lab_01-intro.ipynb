{
  "nbformat": 4,
  "nbformat_minor": 0,
  "metadata": {
    "colab": {
      "provenance": []
    },
    "kernelspec": {
      "name": "python3",
      "display_name": "Python 3"
    },
    "language_info": {
      "name": "python"
    }
  },
  "cells": [
    {
      "cell_type": "markdown",
      "source": [
        "# Знакомство с Юпитер ноутбуком"
      ],
      "metadata": {
        "id": "wSj92zB62GOE"
      }
    },
    {
      "cell_type": "code",
      "execution_count": null,
      "metadata": {
        "colab": {
          "base_uri": "https://localhost:8080/"
        },
        "id": "bJPeVC9r0DKv",
        "outputId": "782913cd-6ea5-48cf-a331-2a69d5445309"
      },
      "outputs": [
        {
          "output_type": "stream",
          "name": "stdout",
          "text": [
            "Hello, World!\n"
          ]
        }
      ],
      "source": [
        "print('Hello, World!')"
      ]
    },
    {
      "cell_type": "markdown",
      "source": [
        "Это текст.  \n",
        "Это новый текст."
      ],
      "metadata": {
        "id": "VdOFgpIh0cYo"
      }
    },
    {
      "cell_type": "code",
      "source": [
        "import numpy as np"
      ],
      "metadata": {
        "id": "vGRO2KjF05Dy"
      },
      "execution_count": null,
      "outputs": []
    },
    {
      "cell_type": "code",
      "source": [
        "a = 10"
      ],
      "metadata": {
        "id": "fKFXdcYK0YIL"
      },
      "execution_count": null,
      "outputs": []
    },
    {
      "cell_type": "code",
      "source": [
        "?np.ceil"
      ],
      "metadata": {
        "id": "ez3EB_Z403kB"
      },
      "execution_count": null,
      "outputs": []
    },
    {
      "cell_type": "code",
      "source": [
        "!ls"
      ],
      "metadata": {
        "colab": {
          "base_uri": "https://localhost:8080/"
        },
        "id": "85RgGdKV1c42",
        "outputId": "374c76fe-3a9c-4847-fa62-f3c603177098"
      },
      "execution_count": null,
      "outputs": [
        {
          "output_type": "stream",
          "name": "stdout",
          "text": [
            "sample_data\n"
          ]
        }
      ]
    },
    {
      "cell_type": "code",
      "source": [
        "!pip install mendeleev"
      ],
      "metadata": {
        "colab": {
          "base_uri": "https://localhost:8080/"
        },
        "id": "VxSLeI6O1wNm",
        "outputId": "3705caa9-7fba-4ed0-a162-926bec136666"
      },
      "execution_count": null,
      "outputs": [
        {
          "output_type": "stream",
          "name": "stdout",
          "text": [
            "Requirement already satisfied: mendeleev in /usr/local/lib/python3.10/dist-packages (0.17.0)\n",
            "Requirement already satisfied: Pygments<3.0.0,>=2.11.2 in /usr/local/lib/python3.10/dist-packages (from mendeleev) (2.16.1)\n",
            "Requirement already satisfied: SQLAlchemy>=1.4.0 in /usr/local/lib/python3.10/dist-packages (from mendeleev) (2.0.34)\n",
            "Requirement already satisfied: colorama<0.5.0,>=0.4.6 in /usr/local/lib/python3.10/dist-packages (from mendeleev) (0.4.6)\n",
            "Requirement already satisfied: numpy<2.0,>=1.21 in /usr/local/lib/python3.10/dist-packages (from mendeleev) (1.26.4)\n",
            "Requirement already satisfied: pandas>=1.0.0 in /usr/local/lib/python3.10/dist-packages (from mendeleev) (2.1.4)\n",
            "Requirement already satisfied: pyfiglet<0.9,>=0.8.post1 in /usr/local/lib/python3.10/dist-packages (from mendeleev) (0.8.post1)\n",
            "Requirement already satisfied: python-dateutil>=2.8.2 in /usr/local/lib/python3.10/dist-packages (from pandas>=1.0.0->mendeleev) (2.8.2)\n",
            "Requirement already satisfied: pytz>=2020.1 in /usr/local/lib/python3.10/dist-packages (from pandas>=1.0.0->mendeleev) (2024.2)\n",
            "Requirement already satisfied: tzdata>=2022.1 in /usr/local/lib/python3.10/dist-packages (from pandas>=1.0.0->mendeleev) (2024.1)\n",
            "Requirement already satisfied: typing-extensions>=4.6.0 in /usr/local/lib/python3.10/dist-packages (from SQLAlchemy>=1.4.0->mendeleev) (4.12.2)\n",
            "Requirement already satisfied: greenlet!=0.4.17 in /usr/local/lib/python3.10/dist-packages (from SQLAlchemy>=1.4.0->mendeleev) (3.1.0)\n",
            "Requirement already satisfied: six>=1.5 in /usr/local/lib/python3.10/dist-packages (from python-dateutil>=2.8.2->pandas>=1.0.0->mendeleev) (1.16.0)\n"
          ]
        }
      ]
    },
    {
      "cell_type": "code",
      "source": [
        "from mendeleev import Element"
      ],
      "metadata": {
        "id": "tc79UjDR19I-"
      },
      "execution_count": null,
      "outputs": []
    },
    {
      "cell_type": "markdown",
      "source": [
        "# Задача  \n",
        "Построить диаграмму рассеяния для стабильных изотопов: протоны vs. нейтроны."
      ],
      "metadata": {
        "id": "nANAL-ML3Tkt"
      }
    },
    {
      "cell_type": "code",
      "source": [
        "import numpy as np\n",
        "from matplotlib import pyplot as plt"
      ],
      "metadata": {
        "id": "ntl--urg2Dko"
      },
      "execution_count": null,
      "outputs": []
    },
    {
      "cell_type": "code",
      "source": [
        "from mendeleev import element, get_all_elements"
      ],
      "metadata": {
        "id": "8Cu2jQmD36Or"
      },
      "execution_count": null,
      "outputs": []
    },
    {
      "cell_type": "code",
      "source": [
        "element('O').mass_number, element('O').atomic_number"
      ],
      "metadata": {
        "colab": {
          "base_uri": "https://localhost:8080/"
        },
        "id": "ZFBPVmfq5C_F",
        "outputId": "336dce23-9d91-41f8-987c-bc97ec6080b2"
      },
      "execution_count": null,
      "outputs": [
        {
          "output_type": "execute_result",
          "data": {
            "text/plain": [
              "(16, 8)"
            ]
          },
          "metadata": {},
          "execution_count": 65
        }
      ]
    },
    {
      "cell_type": "code",
      "source": [
        "for elem in element('O').isotopes:\n",
        "  print(elem.atomic_number, elem.mass_number, elem.is_radioactive)"
      ],
      "metadata": {
        "colab": {
          "base_uri": "https://localhost:8080/"
        },
        "id": "h09rqsW85Fb7",
        "outputId": "2615d1c0-c359-41a7-ff60-06f20417c36d"
      },
      "execution_count": null,
      "outputs": [
        {
          "output_type": "stream",
          "name": "stdout",
          "text": [
            "8 11 True\n",
            "8 12 True\n",
            "8 13 True\n",
            "8 14 True\n",
            "8 15 True\n",
            "8 16 False\n",
            "8 17 False\n",
            "8 18 False\n",
            "8 19 True\n",
            "8 20 True\n",
            "8 21 True\n",
            "8 22 True\n",
            "8 23 True\n",
            "8 24 True\n",
            "8 25 True\n",
            "8 26 True\n",
            "8 27 False\n",
            "8 28 False\n"
          ]
        }
      ]
    },
    {
      "cell_type": "code",
      "source": [
        "def get_from_mendeleev_table(find_func):\n",
        "  '''Итерирование по спискам изотопов всех элементов\n",
        "  Принимает на вход функции'''\n",
        "  seq = []\n",
        "  for elem in get_all_elements():\n",
        "    seq.append(find_func(elem))\n",
        "    for iso_ in elem.isotopes:\n",
        "      seq.append(find_func(iso_))\n",
        "  return seq\n",
        "\n",
        "def get_p_n(element_):\n",
        "  'Возвращает количество протонов и нейтронов'\n",
        "  if not element_.is_radioactive:\n",
        "    n_protons = element_.atomic_number\n",
        "    n_neutrons = element_.mass_number - n_protons\n",
        "    return n_protons, n_neutrons\n",
        "  else:\n",
        "    return np.nan, np.nan"
      ],
      "metadata": {
        "id": "zFqScvvo5WZD"
      },
      "execution_count": null,
      "outputs": []
    },
    {
      "cell_type": "code",
      "source": [
        "ps_ns = get_from_mendeleev_table(get_p_n)"
      ],
      "metadata": {
        "id": "hJJRME6Z6p71"
      },
      "execution_count": null,
      "outputs": []
    },
    {
      "cell_type": "code",
      "source": [
        "type(ps_ns), type(ps_ns[0]), len(ps_ns)"
      ],
      "metadata": {
        "colab": {
          "base_uri": "https://localhost:8080/"
        },
        "id": "tenvqmdN7cUn",
        "outputId": "4d63258e-77ac-493e-8f11-ff50ea9017d1"
      },
      "execution_count": null,
      "outputs": [
        {
          "output_type": "execute_result",
          "data": {
            "text/plain": [
              "(list, tuple, 3675)"
            ]
          },
          "metadata": {},
          "execution_count": 69
        }
      ]
    },
    {
      "cell_type": "code",
      "source": [
        "# 3675,2 -> not nan -> 2, xxx"
      ],
      "metadata": {
        "id": "huSH533u7hAP"
      },
      "execution_count": null,
      "outputs": []
    },
    {
      "cell_type": "markdown",
      "source": [
        "## 1. Избавление от NaN"
      ],
      "metadata": {
        "id": "xEyjQ5P38Ccg"
      }
    },
    {
      "cell_type": "code",
      "source": [
        "ps_ns_ndarray = np.array(ps_ns)\n",
        "ps_ns_ndarray.shape"
      ],
      "metadata": {
        "colab": {
          "base_uri": "https://localhost:8080/"
        },
        "id": "N9x1o5un8I-R",
        "outputId": "e1dcef2f-2633-4d56-cf49-8db1e61ac282"
      },
      "execution_count": null,
      "outputs": [
        {
          "output_type": "execute_result",
          "data": {
            "text/plain": [
              "(3675, 2)"
            ]
          },
          "metadata": {},
          "execution_count": 71
        }
      ]
    },
    {
      "cell_type": "code",
      "source": [
        "~np.isnan(ps_ns_ndarray).any(axis=1)"
      ],
      "metadata": {
        "colab": {
          "base_uri": "https://localhost:8080/"
        },
        "id": "CpVXt7xA8NyX",
        "outputId": "6aa68f83-d944-45d5-efb5-9f5f8b658285"
      },
      "execution_count": null,
      "outputs": [
        {
          "output_type": "execute_result",
          "data": {
            "text/plain": [
              "array([ True,  True,  True, ..., False, False, False])"
            ]
          },
          "metadata": {},
          "execution_count": 72
        }
      ]
    },
    {
      "cell_type": "code",
      "source": [
        "not_nan_indicies = ~np.isnan(ps_ns_ndarray).any(axis=1)\n",
        "ps_ns_ndarray = ps_ns_ndarray[not_nan_indicies]\n",
        "ps_ns_ndarray.shape"
      ],
      "metadata": {
        "colab": {
          "base_uri": "https://localhost:8080/"
        },
        "id": "NbolZuw78VMf",
        "outputId": "8bac0e30-c555-4043-f6b1-6a7488d5c736"
      },
      "execution_count": null,
      "outputs": [
        {
          "output_type": "execute_result",
          "data": {
            "text/plain": [
              "(418, 2)"
            ]
          },
          "metadata": {},
          "execution_count": 73
        }
      ]
    },
    {
      "cell_type": "markdown",
      "source": [
        "## 2. Смена осей (транспонирование)"
      ],
      "metadata": {
        "id": "vYhFWgvd9_jJ"
      }
    },
    {
      "cell_type": "code",
      "source": [
        "ps_ns_ndarray = ps_ns_ndarray.T"
      ],
      "metadata": {
        "id": "IDbhCNys9E_G"
      },
      "execution_count": null,
      "outputs": []
    },
    {
      "cell_type": "code",
      "source": [
        "ps_ns_ndarray.shape"
      ],
      "metadata": {
        "colab": {
          "base_uri": "https://localhost:8080/"
        },
        "id": "Cg0KS1Dr9c7w",
        "outputId": "7d1541e7-84d8-409a-e216-34a06fbf9c07"
      },
      "execution_count": null,
      "outputs": [
        {
          "output_type": "execute_result",
          "data": {
            "text/plain": [
              "(2, 418)"
            ]
          },
          "metadata": {},
          "execution_count": 75
        }
      ]
    },
    {
      "cell_type": "markdown",
      "source": [
        "## 3. Визуализация"
      ],
      "metadata": {
        "id": "XlLax2wQ-XWa"
      }
    },
    {
      "cell_type": "code",
      "source": [
        "fig, ax = plt.subplots(figsize=(6,6))\n",
        "ax.scatter(ps_ns_ndarray[0], ps_ns_ndarray[1], s=10, c=ps_ns_ndarray[1])\n",
        "ax.set_xlabel('Число протонов, Z')\n",
        "ax.set_ylabel('Число нейтронов, A-Z')\n",
        "ax.set_xticks(np.arange(0, 111, 5), minor=True)\n",
        "ax.set_yticks(np.arange(0, 151, 5), minor=True)\n",
        "ax.set_title('Стабильные изотопы')\n",
        "ax.grid(True, 'both', 'both')\n",
        "None"
      ],
      "metadata": {
        "colab": {
          "base_uri": "https://localhost:8080/",
          "height": 564
        },
        "id": "HGcZJEuj9eOK",
        "outputId": "9d12919e-5f8a-41d8-aa43-1de607fcc2ca"
      },
      "execution_count": null,
      "outputs": [
        {
          "output_type": "display_data",
          "data": {
            "text/plain": [
              "<Figure size 600x600 with 1 Axes>"
            ],
            "image/png": "[encoded data removed]"
          },
          "metadata": {}
        }
      ]
    },
    {
      "cell_type": "code",
      "source": [
        "?plt.scatter"
      ],
      "metadata": {
        "id": "g-pBIcht-6xU"
      },
      "execution_count": null,
      "outputs": []
    },
    {
      "cell_type": "code",
      "source": [
        "Colormap"
      ],
      "metadata": {
        "colab": {
          "base_uri": "https://localhost:8080/",
          "height": 141
        },
        "id": "YWbaBabY_TO3",
        "outputId": "a0184eb9-9304-46b2-e7f2-af7dad093e14"
      },
      "execution_count": null,
      "outputs": [
        {
          "output_type": "error",
          "ename": "NameError",
          "evalue": "name 'Colormap' is not defined",
          "traceback": [
            "\u001b[0;31m---------------------------------------------------------------------------\u001b[0m",
            "\u001b[0;31mNameError\u001b[0m                                 Traceback (most recent call last)",
            "\u001b[0;32m<ipython-input-78-7cc06462b449>\u001b[0m in \u001b[0;36m<cell line: 1>\u001b[0;34m()\u001b[0m\n\u001b[0;32m----> 1\u001b[0;31m \u001b[0mColormap\u001b[0m\u001b[0;34m\u001b[0m\u001b[0;34m\u001b[0m\u001b[0m\n\u001b[0m",
            "\u001b[0;31mNameError\u001b[0m: name 'Colormap' is not defined"
          ]
        }
      ]
    },
    {
      "cell_type": "markdown",
      "source": [
        "float or array-like, shape (n, ), optional\n",
        "    The marker size in points**2 (typographic points are 1/72 in.).\n",
        "    Default is ``rcParams['l"
      ],
      "metadata": {
        "id": "PVOHcxiTCCcS"
      }
    },
    {
      "cell_type": "code",
      "source": [],
      "metadata": {
        "id": "uIehuqqHCF7h"
      },
      "execution_count": null,
      "outputs": []
    }
  ]
}